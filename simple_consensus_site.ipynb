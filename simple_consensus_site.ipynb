{
  "nbformat": 4,
  "nbformat_minor": 0,
  "metadata": {
    "colab": {
      "name": "simple_consensus_site",
      "version": "0.3.2",
      "provenance": [],
      "include_colab_link": true
    },
    "kernelspec": {
      "name": "python3",
      "display_name": "Python 3"
    }
  },
  "cells": [
    {
      "cell_type": "markdown",
      "metadata": {
        "id": "view-in-github",
        "colab_type": "text"
      },
      "source": [
        "<a href=\"https://colab.research.google.com/github/jefmud/consensus_data/blob/master/simple_consensus_site.ipynb\" target=\"_parent\"><img src=\"https://colab.research.google.com/assets/colab-badge.svg\" alt=\"Open In Colab\"/></a>"
      ]
    },
    {
      "cell_type": "markdown",
      "metadata": {
        "id": "0FpVSIs2eoiV",
        "colab_type": "text"
      },
      "source": [
        "# A Simpler Consensus Data Set\n",
        "\n",
        "---\n",
        "\n",
        "\n",
        "\n",
        "I took the liberty of cutting down the data set to only include the columns of interest.  You will also note that I added two columns \"habitat\" and \"woodland.\" The habitat column is somewhat of a binary because our observations are only WOODLAND or GRASSLAND.  The \"woodland\" column has four entry types (but could have more in a future dataset)-- GRASSLAND (which means it is NOT woodland!); SPARSE, MODERATE, DENSE (woodland).  It is a bit redundant but was done for students to simplify consideration of WOODLAND versus GRASSLAND species.\n",
        "\n",
        "\n",
        "---\n",
        "\n",
        "Note that the data, because it is housed on Github, requires it to be compressed as a ZIP file.  **So... it should be loaded with the code shown below.**"
      ]
    },
    {
      "cell_type": "code",
      "metadata": {
        "id": "1kQq-dATd9lo",
        "colab_type": "code",
        "colab": {
          "base_uri": "https://localhost:8080/",
          "height": 204
        },
        "outputId": "d386c9a4-9cad-4c57-d82f-370881de1ce3"
      },
      "source": [
        "# we need pandas to load, view, and manipulate the data.\n",
        "import pandas as pd\n",
        "# loading the data as a ZIPPED CSV file from GitHub\n",
        "df = pd.read_csv('https://github.com/jefmud/consensus_data/blob/master/consensus_data_site.zip?raw=true', compression='zip')\n",
        "# Show the top five rows\n",
        "df.head()"
      ],
      "execution_count": 5,
      "outputs": [
        {
          "output_type": "execute_result",
          "data": {
            "text/html": [
              "<div>\n",
              "<style scoped>\n",
              "    .dataframe tbody tr th:only-of-type {\n",
              "        vertical-align: middle;\n",
              "    }\n",
              "\n",
              "    .dataframe tbody tr th {\n",
              "        vertical-align: top;\n",
              "    }\n",
              "\n",
              "    .dataframe thead th {\n",
              "        text-align: right;\n",
              "    }\n",
              "</style>\n",
              "<table border=\"1\" class=\"dataframe\">\n",
              "  <thead>\n",
              "    <tr style=\"text-align: right;\">\n",
              "      <th></th>\n",
              "      <th>Unnamed: 0</th>\n",
              "      <th>CaptureEventID</th>\n",
              "      <th>DateTime</th>\n",
              "      <th>SiteID</th>\n",
              "      <th>NumSpecies</th>\n",
              "      <th>Species</th>\n",
              "      <th>Count</th>\n",
              "      <th>NumClassifications</th>\n",
              "      <th>Evenness</th>\n",
              "      <th>habitat</th>\n",
              "      <th>woodland</th>\n",
              "    </tr>\n",
              "  </thead>\n",
              "  <tbody>\n",
              "    <tr>\n",
              "      <th>0</th>\n",
              "      <td>0</td>\n",
              "      <td>ASG0002kjh</td>\n",
              "      <td>2010-07-18 16:26:14</td>\n",
              "      <td>B04</td>\n",
              "      <td>1</td>\n",
              "      <td>human</td>\n",
              "      <td>1</td>\n",
              "      <td>17</td>\n",
              "      <td>0.000000</td>\n",
              "      <td>WOODLAND</td>\n",
              "      <td>DENSE</td>\n",
              "    </tr>\n",
              "    <tr>\n",
              "      <th>1</th>\n",
              "      <td>1</td>\n",
              "      <td>ASG0002kji</td>\n",
              "      <td>2010-07-18 16:26:30</td>\n",
              "      <td>B04</td>\n",
              "      <td>1</td>\n",
              "      <td>human</td>\n",
              "      <td>2</td>\n",
              "      <td>23</td>\n",
              "      <td>0.000000</td>\n",
              "      <td>WOODLAND</td>\n",
              "      <td>DENSE</td>\n",
              "    </tr>\n",
              "    <tr>\n",
              "      <th>2</th>\n",
              "      <td>2</td>\n",
              "      <td>ASG0002kjm</td>\n",
              "      <td>2010-07-24 08:20:10</td>\n",
              "      <td>B04</td>\n",
              "      <td>1</td>\n",
              "      <td>gazelleGrants</td>\n",
              "      <td>1</td>\n",
              "      <td>30</td>\n",
              "      <td>0.693426</td>\n",
              "      <td>WOODLAND</td>\n",
              "      <td>DENSE</td>\n",
              "    </tr>\n",
              "    <tr>\n",
              "      <th>3</th>\n",
              "      <td>3</td>\n",
              "      <td>ASG0002kjn</td>\n",
              "      <td>2010-07-24 10:14:32</td>\n",
              "      <td>B04</td>\n",
              "      <td>1</td>\n",
              "      <td>reedbuck</td>\n",
              "      <td>1</td>\n",
              "      <td>25</td>\n",
              "      <td>0.957995</td>\n",
              "      <td>WOODLAND</td>\n",
              "      <td>DENSE</td>\n",
              "    </tr>\n",
              "    <tr>\n",
              "      <th>4</th>\n",
              "      <td>4</td>\n",
              "      <td>ASG0002kjo</td>\n",
              "      <td>2010-07-30 03:59:42</td>\n",
              "      <td>B04</td>\n",
              "      <td>1</td>\n",
              "      <td>dikDik</td>\n",
              "      <td>1</td>\n",
              "      <td>28</td>\n",
              "      <td>0.482102</td>\n",
              "      <td>WOODLAND</td>\n",
              "      <td>DENSE</td>\n",
              "    </tr>\n",
              "  </tbody>\n",
              "</table>\n",
              "</div>"
            ],
            "text/plain": [
              "   Unnamed: 0 CaptureEventID             DateTime  ...  Evenness   habitat woodland\n",
              "0           0     ASG0002kjh  2010-07-18 16:26:14  ...  0.000000  WOODLAND    DENSE\n",
              "1           1     ASG0002kji  2010-07-18 16:26:30  ...  0.000000  WOODLAND    DENSE\n",
              "2           2     ASG0002kjm  2010-07-24 08:20:10  ...  0.693426  WOODLAND    DENSE\n",
              "3           3     ASG0002kjn  2010-07-24 10:14:32  ...  0.957995  WOODLAND    DENSE\n",
              "4           4     ASG0002kjo  2010-07-30 03:59:42  ...  0.482102  WOODLAND    DENSE\n",
              "\n",
              "[5 rows x 11 columns]"
            ]
          },
          "metadata": {
            "tags": []
          },
          "execution_count": 5
        }
      ]
    },
    {
      "cell_type": "markdown",
      "metadata": {
        "id": "QFai1hxegPGj",
        "colab_type": "text"
      },
      "source": [
        "## Asking a question about Habitat\n",
        "Now... we can ask a question of this data.  Where are the species located during captures.  The species list is provided by the user and the program will graph it.\n",
        "\n",
        "First we can ask two pretty basic questions:\n",
        "\n",
        "1. where will you find **gazelles**? Woodland or Grassland?\n",
        "2. where will you find **giraffes**? Woodland or Grassland?\n",
        "\n",
        "What do you expect?"
      ]
    },
    {
      "cell_type": "code",
      "metadata": {
        "id": "PWZjYtXzecLG",
        "colab_type": "code",
        "colab": {
          "base_uri": "https://localhost:8080/",
          "height": 350
        },
        "outputId": "4d0dd590-7db3-46cd-93fe-02ea226067ef"
      },
      "source": [
        "# this is a bit more generic\n",
        "# what habitat does species_list prefer\n",
        "\n",
        "species_list = ['gazelleGrants','gazelleThomsons']\n",
        "\n",
        "# don't modify the code below unless you know what you are doing!\n",
        "title = 'habitats for {}'.format(', '.join(species_list))\n",
        "ax = df[df.Species.isin(species_list)].woodland.value_counts().plot.bar(title=title)\n",
        "ax.set_ylabel('number of captures')"
      ],
      "execution_count": 6,
      "outputs": [
        {
          "output_type": "execute_result",
          "data": {
            "text/plain": [
              "Text(0, 0.5, 'number of captures')"
            ]
          },
          "metadata": {
            "tags": []
          },
          "execution_count": 6
        },
        {
          "output_type": "display_data",
          "data": {
            "image/png": "[encoded data removed]",
            "text/plain": [
              "<Figure size 432x288 with 1 Axes>"
            ]
          },
          "metadata": {
            "tags": []
          }
        }
      ]
    },
    {
      "cell_type": "code",
      "metadata": {
        "id": "8bfhImR5huYg",
        "colab_type": "code",
        "colab": {
          "base_uri": "https://localhost:8080/",
          "height": 350
        },
        "outputId": "04596244-1363-49f8-bba9-54393e9c8be7"
      },
      "source": [
        "# now for giraffe (copy and modify the above code block)\n",
        "species_list = ['giraffe']\n",
        "\n",
        "# don't modify the code below unless you know what you are doing!\n",
        "title = 'habitats for {}'.format(', '.join(species_list))\n",
        "ax = df[df.Species.isin(species_list)].woodland.value_counts().plot.bar(title=title)\n",
        "ax.set_ylabel('number of captures')"
      ],
      "execution_count": 7,
      "outputs": [
        {
          "output_type": "execute_result",
          "data": {
            "text/plain": [
              "Text(0, 0.5, 'number of captures')"
            ]
          },
          "metadata": {
            "tags": []
          },
          "execution_count": 7
        },
        {
          "output_type": "display_data",
          "data": {
            "image/png": "[encoded data removed]",
            "text/plain": [
              "<Figure size 432x288 with 1 Axes>"
            ]
          },
          "metadata": {
            "tags": []
          }
        }
      ]
    }
  ]
}